{
 "cells": [
  {
   "cell_type": "code",
   "execution_count": 1,
   "metadata": {
    "collapsed": true
   },
   "outputs": [],
   "source": [
    "from __future__ import division\n",
    "%matplotlib inline\n",
    "import matplotlib.pyplot as plt"
   ]
  },
  {
   "cell_type": "code",
   "execution_count": 2,
   "metadata": {
    "collapsed": true
   },
   "outputs": [],
   "source": [
    "import numpy as np\n",
    "from scipy import stats"
   ]
  },
  {
   "cell_type": "code",
   "execution_count": 3,
   "metadata": {
    "collapsed": true
   },
   "outputs": [],
   "source": [
    "from train_test import make_parser, generate_data\n",
    "\n",
    "parser = make_parser()\n",
    "args = parser.parse_args([\n",
    "    'chi2', '--data-seed=2314', '--type=radial', 'lawl'])\n",
    "train, estop, val, test = generate_data(args)"
   ]
  },
  {
   "cell_type": "markdown",
   "metadata": {},
   "source": [
    "This generates data as:\n",
    "\\begin{gather}\n",
    "k \\sim \\mathrm{Uniform}[a, b] \\\\\n",
    "X \\mid k \\sim \\chi^2(k) \\\\\n",
    "Y \\mid X, k = X / k\n",
    "\\end{gather}"
   ]
  },
  {
   "cell_type": "markdown",
   "metadata": {},
   "source": [
    "$\\chi^2$ likelihood is\n",
    "$$\n",
    "p_X(x \\mid k) = \\frac{1}{2^{k/2} \\Gamma(k/2)} x^{k/2 - 1} e^{-x/2}\n",
    ".$$"
   ]
  },
  {
   "cell_type": "markdown",
   "metadata": {},
   "source": [
    "So we have\n",
    "$$\n",
    "\\Pr(Y \\le y)\n",
    "= \\Pr(X/k \\le y)\n",
    "= \\Pr(X \\le k y)\n",
    ",$$\n",
    "and differentiating both sides by $y$,\n",
    "$$\n",
    "p_Y(y \\mid k)\n",
    "= k p_X(k y \\mid k)\n",
    ".$$"
   ]
  },
  {
   "cell_type": "markdown",
   "metadata": {},
   "source": [
    "Thus $p_Y(\\{y_i\\} \\mid k) = k p_X(\\{k y_i\\})$."
   ]
  },
  {
   "cell_type": "markdown",
   "metadata": {},
   "source": [
    "We could do it this way:\n",
    "```python\n",
    "def likelihood_indirect(X, k):\n",
    "    return np.exp(stats.chi2(k).logpdf(X.ravel() * k).sum() + X.size * np.log(k))\n",
    "```"
   ]
  },
  {
   "cell_type": "markdown",
   "metadata": {},
   "source": [
    "But this version can vectorize across `k` and so is faster:"
   ]
  },
  {
   "cell_type": "code",
   "execution_count": 4,
   "metadata": {
    "collapsed": true
   },
   "outputs": [],
   "source": [
    "from scipy.special import gammaln\n",
    "def likelihood(X, k):\n",
    "    return np.exp( X.size * (\n",
    "        np.log(k)\n",
    "        - k/2 * np.log(2)\n",
    "        - gammaln(k / 2)\n",
    "        + (k/2 - 1) * (np.log(k) + np.log(X).mean())\n",
    "        - k/2 * np.mean(X)\n",
    "    ))"
   ]
  },
  {
   "cell_type": "code",
   "execution_count": 5,
   "metadata": {
    "collapsed": true
   },
   "outputs": [],
   "source": [
    "dfs = np.linspace(args.min_df, args.max_df, num=5000)"
   ]
  },
  {
   "cell_type": "code",
   "execution_count": 6,
   "metadata": {
    "collapsed": true
   },
   "outputs": [],
   "source": [
    "likelihoods = np.array([likelihood(bag, dfs) for bag in test])\n",
    "posteriors = likelihoods / likelihoods.sum(axis=1, keepdims=True)\n",
    "maps = dfs[posteriors.argmax(axis=1)]\n",
    "means = posteriors.dot(dfs)"
   ]
  },
  {
   "cell_type": "code",
   "execution_count": 7,
   "metadata": {
    "collapsed": true
   },
   "outputs": [],
   "source": [
    "def interval(p, coverage=.95, center='mean'):\n",
    "    if center == 'mean':\n",
    "        i = dfs.searchsorted(dfs.dot(p))\n",
    "    elif center == 'mode':\n",
    "        i = p.argmax()\n",
    "    else:\n",
    "        i = dfs.searchsorted(center)\n",
    "    # interval: covers [max(i - w, 0), min(i + w, len(p))]\n",
    "    # want smallest w such that interval sum is >= coverage\n",
    "\n",
    "    cumsum = np.r_[0, np.cumsum(p)]\n",
    "    # sum(interval) == cumsum[min(i+w+1, len(p))] - cumsum[max(i-w, 0)]\n",
    "    # find all sums:\n",
    "    uppers = np.r_[cumsum[i+1:], np.repeat(cumsum[-1], i)]\n",
    "    lowers = np.r_[cumsum[i:0:-1], np.repeat(0, len(p) - i)]\n",
    "    w = np.searchsorted(uppers - lowers, coverage)\n",
    "\n",
    "    return dfs[max(i - w, 0)], dfs[min(i + w + 1, len(p)) - 1]"
   ]
  },
  {
   "cell_type": "code",
   "execution_count": 8,
   "metadata": {},
   "outputs": [
    {
     "data": {
      "text/plain": [
       "<matplotlib.text.Text at 0x7f601e8a3a10>"
      ]
     },
     "execution_count": 8,
     "metadata": {},
     "output_type": "execute_result"
    },
    {
     "data": {
      "image/png": "[encoded data removed]",
      "text/plain": [
       "<matplotlib.figure.Figure at 0x7f601e91ba90>"
      ]
     },
     "metadata": {},
     "output_type": "display_data"
    }
   ],
   "source": [
    "k = np.random.choice((test.n_pts == 20).nonzero()[0])\n",
    "plt.plot(dfs, posteriors[k], label='posterior density')\n",
    "plt.axvline(test.y[k], color='k', label='true k')\n",
    "plt.axvline(maps[k], color='red', label='MAP')\n",
    "plt.axvline(means[k], color='cyan', label='posterior mean')\n",
    "plt.legend(loc='best')\n",
    "\n",
    "ylim = [0, plt.ylim()[1]]\n",
    "plt.fill_betweenx(ylim, *interval(posteriors[k], .95), alpha=.1, color='b')\n",
    "plt.fill_betweenx(ylim, *interval(posteriors[k], .5), alpha=.1, color='b')\n",
    "plt.xlim(4-.01, 8+.01)\n",
    "plt.ylim(*ylim)\n",
    "plt.title(\"Test bag {}: {} points\".format(k, test.n_pts[k]))\n",
    "plt.xlabel('degrees of freedom')"
   ]
  },
  {
   "cell_type": "code",
   "execution_count": 9,
   "metadata": {
    "collapsed": true
   },
   "outputs": [],
   "source": [
    "from sklearn.metrics import mean_squared_error, r2_score"
   ]
  },
  {
   "cell_type": "code",
   "execution_count": 10,
   "metadata": {},
   "outputs": [
    {
     "data": {
      "text/plain": [
       "(0.19545174588520353, 0.23819838382754047)"
      ]
     },
     "execution_count": 10,
     "metadata": {},
     "output_type": "execute_result"
    }
   ],
   "source": [
    "mean_squared_error(test.y, means), mean_squared_error(test.y, maps)"
   ]
  },
  {
   "cell_type": "code",
   "execution_count": 11,
   "metadata": {
    "scrolled": true
   },
   "outputs": [
    {
     "data": {
      "text/plain": [
       "(0.85111219306412567, 0.8185494080744512)"
      ]
     },
     "execution_count": 11,
     "metadata": {},
     "output_type": "execute_result"
    }
   ],
   "source": [
    "r2_score(test.y, means), r2_score(test.y, maps)"
   ]
  },
  {
   "cell_type": "code",
   "execution_count": 12,
   "metadata": {},
   "outputs": [
    {
     "data": {
      "text/plain": [
       "-7.609651595881763"
      ]
     },
     "execution_count": 12,
     "metadata": {},
     "output_type": "execute_result"
    }
   ],
   "source": [
    "# Mean predictive log likelihood (essentially entropy)\n",
    "inds = np.searchsorted(dfs, test.y)\n",
    "np.mean(np.log(posteriors[xrange(posteriors.shape[0]), inds]))"
   ]
  },
  {
   "cell_type": "code",
   "execution_count": 13,
   "metadata": {},
   "outputs": [
    {
     "data": {
      "text/plain": [
       "(0.93899999999999995, 0.93700000000000006)"
      ]
     },
     "execution_count": 13,
     "metadata": {},
     "output_type": "execute_result"
    }
   ],
   "source": [
    "mean_coverage = []\n",
    "map_coverage = []\n",
    "for p, y in zip(posteriors, test.y):\n",
    "    lo, hi = interval(p, .95, center='mean')\n",
    "    mean_coverage.append(lo < y and y < hi)\n",
    "    \n",
    "    lo, hi = interval(p, .95, center='mode')\n",
    "    map_coverage.append(lo < y and y < hi)\n",
    "np.mean(mean_coverage), np.mean(map_coverage)"
   ]
  },
  {
   "cell_type": "code",
   "execution_count": 14,
   "metadata": {},
   "outputs": [
    {
     "data": {
      "text/plain": [
       "(0.75, 0.73499999999999999)"
      ]
     },
     "execution_count": 14,
     "metadata": {},
     "output_type": "execute_result"
    }
   ],
   "source": [
    "mean_coverage = []\n",
    "map_coverage = []\n",
    "for p, y in zip(posteriors, test.y):\n",
    "    lo, hi = interval(p, .75, center='mean')\n",
    "    mean_coverage.append(lo < y and y < hi)\n",
    "    \n",
    "    lo, hi = interval(p, .75, center='mode')\n",
    "    map_coverage.append(lo < y and y < hi)\n",
    "np.mean(mean_coverage), np.mean(map_coverage)"
   ]
  },
  {
   "cell_type": "code",
   "execution_count": 15,
   "metadata": {},
   "outputs": [
    {
     "name": "stdout",
     "output_type": "stream",
     "text": [
      "(array(0.30731824009471187), array(0.7744315775301602))\n"
     ]
    }
   ],
   "source": [
    "with np.load('chi2_blr/results.npz') as d:\n",
    "    print(d['test_mse'], d['test_r2'])"
   ]
  },
  {
   "cell_type": "code",
   "execution_count": 16,
   "metadata": {},
   "outputs": [
    {
     "name": "stdout",
     "output_type": "stream",
     "text": [
      "(array(0.2584721083915698), array(0.8041195173734577))\n"
     ]
    }
   ],
   "source": [
    "with np.load('chi2_mmd_krr_linear/results.npz') as d:\n",
    "    print(d['test_mse'], d['test_r2'])"
   ]
  }
 ],
 "metadata": {
  "anaconda-cloud": {},
  "kernelspec": {
   "display_name": "Python 2",
   "language": "python",
   "name": "python2"
  },
  "language_info": {
   "codemirror_mode": {
    "name": "ipython",
    "version": 2
   },
   "file_extension": ".py",
   "mimetype": "text/x-python",
   "name": "python",
   "nbconvert_exporter": "python",
   "pygments_lexer": "ipython2",
   "version": "2.7.13"
  }
 },
 "nbformat": 4,
 "nbformat_minor": 2
}
