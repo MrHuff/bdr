{
 "cells": [
  {
   "cell_type": "code",
   "execution_count": 1,
   "metadata": {},
   "outputs": [],
   "source": [
    "%matplotlib inline\n",
    "import numpy as np\n",
    "import matplotlib.pyplot as plt\n",
    "import seaborn as sns\n",
    "import pandas as pd"
   ]
  },
  {
   "cell_type": "code",
   "execution_count": 2,
   "metadata": {},
   "outputs": [],
   "source": [
    "d = np.load('./all-feats/meta.npz')"
   ]
  },
  {
   "cell_type": "code",
   "execution_count": 3,
   "metadata": {
    "scrolled": true
   },
   "outputs": [
    {
     "data": {
      "text/plain": [
       "['dob',\n",
       " 'photo_taken',\n",
       " 'full_path',\n",
       " 'gender',\n",
       " 'name',\n",
       " 'face_location',\n",
       " 'face_score',\n",
       " 'second_face_score',\n",
       " 'celeb_names',\n",
       " 'celeb_id']"
      ]
     },
     "execution_count": 3,
     "metadata": {},
     "output_type": "execute_result"
    }
   ],
   "source": [
    "d.keys()"
   ]
  },
  {
   "cell_type": "markdown",
   "metadata": {},
   "source": [
    "Note: `celeb_id` doesn't actually mean anything, e.g. Brian Kelly refers both to someone born in 1931 and someone born in 1970. So we can't rely on either that or `name` being unique."
   ]
  },
  {
   "cell_type": "code",
   "execution_count": 4,
   "metadata": {},
   "outputs": [],
   "source": [
    "w = np.ones(d['dob'].size, dtype=bool)\n",
    "w[d['dob'] < np.datetime64('1800-01-01')] = False\n",
    "w[d['name'] == 'Grumpy Cat'] = False\n",
    "w[d['photo_taken'] < d['dob']] = False\n",
    "w[d['photo_taken'] > d['dob'] + np.timedelta64(36525, 'D')] = False\n",
    "w[np.isinf(d['face_score'])] = False"
   ]
  },
  {
   "cell_type": "code",
   "execution_count": 5,
   "metadata": {},
   "outputs": [],
   "source": [
    "df = pd.DataFrame({k: d[k][w] for k in [\n",
    "    'dob', 'photo_taken', 'full_path', 'gender', 'name',\n",
    "    'face_score', 'second_face_score']})"
   ]
  },
  {
   "cell_type": "code",
   "execution_count": 6,
   "metadata": {},
   "outputs": [],
   "source": [
    "days_old = df['photo_taken'] - df['dob']\n",
    "df['age'] = days_old / np.timedelta64(365 * 24 + 6, 'h')"
   ]
  },
  {
   "cell_type": "code",
   "execution_count": 7,
   "metadata": {},
   "outputs": [],
   "source": [
    "df.set_index(['name', 'dob', 'age', 'full_path'], inplace=True)\n",
    "df.sort_index(inplace=True)"
   ]
  },
  {
   "cell_type": "code",
   "execution_count": 8,
   "metadata": {},
   "outputs": [],
   "source": [
    "def get_chunk(g):\n",
    "    years = g.photo_taken.values.astype('datetime64[Y]')\n",
    "    l_start, l_end = 0, 0\n",
    "    for start in np.r_[0, np.diff(years).nonzero()[0] + 1]:\n",
    "        yr = years[start]\n",
    "        end = years.searchsorted(yr + 4, side='right')\n",
    "        if end - start > l_end - l_start:\n",
    "            l_start, l_end = start, end\n",
    "    sub = g.iloc[l_start:l_end]\n",
    "    return sub.reset_index(level=[0, 1], drop=True)"
   ]
  },
  {
   "cell_type": "code",
   "execution_count": 9,
   "metadata": {},
   "outputs": [],
   "source": [
    "chunked = df.groupby(level=[0, 1]).apply(get_chunk)"
   ]
  },
  {
   "cell_type": "code",
   "execution_count": 10,
   "metadata": {},
   "outputs": [
    {
     "data": {
      "text/html": [
       "<div>\n",
       "<style>\n",
       "    .dataframe thead tr:only-child th {\n",
       "        text-align: right;\n",
       "    }\n",
       "\n",
       "    .dataframe thead th {\n",
       "        text-align: left;\n",
       "    }\n",
       "\n",
       "    .dataframe tbody tr th {\n",
       "        vertical-align: top;\n",
       "    }\n",
       "</style>\n",
       "<table border=\"1\" class=\"dataframe\">\n",
       "  <thead>\n",
       "    <tr style=\"text-align: right;\">\n",
       "      <th></th>\n",
       "      <th></th>\n",
       "      <th></th>\n",
       "      <th></th>\n",
       "      <th>face_score</th>\n",
       "      <th>gender</th>\n",
       "      <th>photo_taken</th>\n",
       "      <th>second_face_score</th>\n",
       "    </tr>\n",
       "    <tr>\n",
       "      <th>name</th>\n",
       "      <th>dob</th>\n",
       "      <th>age</th>\n",
       "      <th>full_path</th>\n",
       "      <th></th>\n",
       "      <th></th>\n",
       "      <th></th>\n",
       "      <th></th>\n",
       "    </tr>\n",
       "  </thead>\n",
       "  <tbody>\n",
       "    <tr>\n",
       "      <th>'Lee' George Quinones</th>\n",
       "      <th>1959-12-31</th>\n",
       "      <th>23.498973</th>\n",
       "      <th>42/nm0704042_rm2073418240_1960-0-0_1983.jpg</th>\n",
       "      <td>2.631740</td>\n",
       "      <td>1.0</td>\n",
       "      <td>1983-07-01</td>\n",
       "      <td>1.977301</td>\n",
       "    </tr>\n",
       "    <tr>\n",
       "      <th rowspan=\"4\" valign=\"top\">'Weird Al' Yankovic</th>\n",
       "      <th rowspan=\"4\" valign=\"top\">1959-10-23</th>\n",
       "      <th rowspan=\"2\" valign=\"top\">51.687885</th>\n",
       "      <th>48/nm0946148_rm1179500032_1959-10-23_2011.jpg</th>\n",
       "      <td>1.685582</td>\n",
       "      <td>1.0</td>\n",
       "      <td>2011-07-01</td>\n",
       "      <td>NaN</td>\n",
       "    </tr>\n",
       "    <tr>\n",
       "      <th>48/nm0946148_rm1475066112_1959-10-23_2011.jpg</th>\n",
       "      <td>1.874616</td>\n",
       "      <td>1.0</td>\n",
       "      <td>2011-07-01</td>\n",
       "      <td>NaN</td>\n",
       "    </tr>\n",
       "    <tr>\n",
       "      <th>53.689254</th>\n",
       "      <th>48/nm0946148_rm220712192_1959-10-23_2013.jpg</th>\n",
       "      <td>1.984194</td>\n",
       "      <td>1.0</td>\n",
       "      <td>2013-07-01</td>\n",
       "      <td>0.818740</td>\n",
       "    </tr>\n",
       "    <tr>\n",
       "      <th>54.688569</th>\n",
       "      <th>48/nm0946148_rm720815616_1959-10-23_2014.jpg</th>\n",
       "      <td>2.256434</td>\n",
       "      <td>1.0</td>\n",
       "      <td>2014-07-01</td>\n",
       "      <td>1.930371</td>\n",
       "    </tr>\n",
       "  </tbody>\n",
       "</table>\n",
       "</div>"
      ],
      "text/plain": [
       "                                                                                          face_score  \\\n",
       "name                  dob        age       full_path                                                   \n",
       "'Lee' George Quinones 1959-12-31 23.498973 42/nm0704042_rm2073418240_1960-0-0_1983.jpg      2.631740   \n",
       "'Weird Al' Yankovic   1959-10-23 51.687885 48/nm0946148_rm1179500032_1959-10-23_2011.jpg    1.685582   \n",
       "                                           48/nm0946148_rm1475066112_1959-10-23_2011.jpg    1.874616   \n",
       "                                 53.689254 48/nm0946148_rm220712192_1959-10-23_2013.jpg     1.984194   \n",
       "                                 54.688569 48/nm0946148_rm720815616_1959-10-23_2014.jpg     2.256434   \n",
       "\n",
       "                                                                                          gender  \\\n",
       "name                  dob        age       full_path                                               \n",
       "'Lee' George Quinones 1959-12-31 23.498973 42/nm0704042_rm2073418240_1960-0-0_1983.jpg       1.0   \n",
       "'Weird Al' Yankovic   1959-10-23 51.687885 48/nm0946148_rm1179500032_1959-10-23_2011.jpg     1.0   \n",
       "                                           48/nm0946148_rm1475066112_1959-10-23_2011.jpg     1.0   \n",
       "                                 53.689254 48/nm0946148_rm220712192_1959-10-23_2013.jpg      1.0   \n",
       "                                 54.688569 48/nm0946148_rm720815616_1959-10-23_2014.jpg      1.0   \n",
       "\n",
       "                                                                                         photo_taken  \\\n",
       "name                  dob        age       full_path                                                   \n",
       "'Lee' George Quinones 1959-12-31 23.498973 42/nm0704042_rm2073418240_1960-0-0_1983.jpg    1983-07-01   \n",
       "'Weird Al' Yankovic   1959-10-23 51.687885 48/nm0946148_rm1179500032_1959-10-23_2011.jpg  2011-07-01   \n",
       "                                           48/nm0946148_rm1475066112_1959-10-23_2011.jpg  2011-07-01   \n",
       "                                 53.689254 48/nm0946148_rm220712192_1959-10-23_2013.jpg   2013-07-01   \n",
       "                                 54.688569 48/nm0946148_rm720815616_1959-10-23_2014.jpg   2014-07-01   \n",
       "\n",
       "                                                                                          second_face_score  \n",
       "name                  dob        age       full_path                                                         \n",
       "'Lee' George Quinones 1959-12-31 23.498973 42/nm0704042_rm2073418240_1960-0-0_1983.jpg             1.977301  \n",
       "'Weird Al' Yankovic   1959-10-23 51.687885 48/nm0946148_rm1179500032_1959-10-23_2011.jpg                NaN  \n",
       "                                           48/nm0946148_rm1475066112_1959-10-23_2011.jpg                NaN  \n",
       "                                 53.689254 48/nm0946148_rm220712192_1959-10-23_2013.jpg            0.818740  \n",
       "                                 54.688569 48/nm0946148_rm720815616_1959-10-23_2014.jpg            1.930371  "
      ]
     },
     "execution_count": 10,
     "metadata": {},
     "output_type": "execute_result"
    }
   ],
   "source": [
    "chunked.head()"
   ]
  },
  {
   "cell_type": "code",
   "execution_count": 11,
   "metadata": {},
   "outputs": [
    {
     "data": {
      "text/html": [
       "<div>\n",
       "<style>\n",
       "    .dataframe thead tr:only-child th {\n",
       "        text-align: right;\n",
       "    }\n",
       "\n",
       "    .dataframe thead th {\n",
       "        text-align: left;\n",
       "    }\n",
       "\n",
       "    .dataframe tbody tr th {\n",
       "        vertical-align: top;\n",
       "    }\n",
       "</style>\n",
       "<table border=\"1\" class=\"dataframe\">\n",
       "  <thead>\n",
       "    <tr style=\"text-align: right;\">\n",
       "      <th></th>\n",
       "      <th></th>\n",
       "      <th></th>\n",
       "      <th>face_score</th>\n",
       "      <th>gender</th>\n",
       "      <th>photo_taken</th>\n",
       "      <th>second_face_score</th>\n",
       "    </tr>\n",
       "    <tr>\n",
       "      <th>dob</th>\n",
       "      <th>age</th>\n",
       "      <th>full_path</th>\n",
       "      <th></th>\n",
       "      <th></th>\n",
       "      <th></th>\n",
       "      <th></th>\n",
       "    </tr>\n",
       "  </thead>\n",
       "  <tbody>\n",
       "    <tr>\n",
       "      <th rowspan=\"3\" valign=\"top\">1931-02-14</th>\n",
       "      <th rowspan=\"3\" valign=\"top\">33.377139</th>\n",
       "      <th>23/nm0446223_rm4100114432_1931-2-14_1964.jpg</th>\n",
       "      <td>2.853691</td>\n",
       "      <td>1.0</td>\n",
       "      <td>1964-07-01</td>\n",
       "      <td>2.630130</td>\n",
       "    </tr>\n",
       "    <tr>\n",
       "      <th>23/nm0446223_rm4133668864_1931-2-14_1964.jpg</th>\n",
       "      <td>5.144049</td>\n",
       "      <td>1.0</td>\n",
       "      <td>1964-07-01</td>\n",
       "      <td>NaN</td>\n",
       "    </tr>\n",
       "    <tr>\n",
       "      <th>23/nm0446223_rm4150446080_1931-2-14_1964.jpg</th>\n",
       "      <td>3.393348</td>\n",
       "      <td>1.0</td>\n",
       "      <td>1964-07-01</td>\n",
       "      <td>1.911732</td>\n",
       "    </tr>\n",
       "    <tr>\n",
       "      <th rowspan=\"3\" valign=\"top\">1970-06-30</th>\n",
       "      <th rowspan=\"3\" valign=\"top\">44.002738</th>\n",
       "      <th>95/nm0898595_rm3082275584_1970-6-30_2014.jpg</th>\n",
       "      <td>2.321225</td>\n",
       "      <td>1.0</td>\n",
       "      <td>2014-07-01</td>\n",
       "      <td>NaN</td>\n",
       "    </tr>\n",
       "    <tr>\n",
       "      <th>95/nm0898595_rm3744312576_1970-6-30_2014.jpg</th>\n",
       "      <td>1.893931</td>\n",
       "      <td>1.0</td>\n",
       "      <td>2014-07-01</td>\n",
       "      <td>NaN</td>\n",
       "    </tr>\n",
       "    <tr>\n",
       "      <th>95/nm0898595_rm579390208_1970-6-30_2014.jpg</th>\n",
       "      <td>3.609739</td>\n",
       "      <td>1.0</td>\n",
       "      <td>2014-07-01</td>\n",
       "      <td>2.623732</td>\n",
       "    </tr>\n",
       "  </tbody>\n",
       "</table>\n",
       "</div>"
      ],
      "text/plain": [
       "                                                                   face_score  \\\n",
       "dob        age       full_path                                                  \n",
       "1931-02-14 33.377139 23/nm0446223_rm4100114432_1931-2-14_1964.jpg    2.853691   \n",
       "                     23/nm0446223_rm4133668864_1931-2-14_1964.jpg    5.144049   \n",
       "                     23/nm0446223_rm4150446080_1931-2-14_1964.jpg    3.393348   \n",
       "1970-06-30 44.002738 95/nm0898595_rm3082275584_1970-6-30_2014.jpg    2.321225   \n",
       "                     95/nm0898595_rm3744312576_1970-6-30_2014.jpg    1.893931   \n",
       "                     95/nm0898595_rm579390208_1970-6-30_2014.jpg     3.609739   \n",
       "\n",
       "                                                                   gender  \\\n",
       "dob        age       full_path                                              \n",
       "1931-02-14 33.377139 23/nm0446223_rm4100114432_1931-2-14_1964.jpg     1.0   \n",
       "                     23/nm0446223_rm4133668864_1931-2-14_1964.jpg     1.0   \n",
       "                     23/nm0446223_rm4150446080_1931-2-14_1964.jpg     1.0   \n",
       "1970-06-30 44.002738 95/nm0898595_rm3082275584_1970-6-30_2014.jpg     1.0   \n",
       "                     95/nm0898595_rm3744312576_1970-6-30_2014.jpg     1.0   \n",
       "                     95/nm0898595_rm579390208_1970-6-30_2014.jpg      1.0   \n",
       "\n",
       "                                                                  photo_taken  \\\n",
       "dob        age       full_path                                                  \n",
       "1931-02-14 33.377139 23/nm0446223_rm4100114432_1931-2-14_1964.jpg  1964-07-01   \n",
       "                     23/nm0446223_rm4133668864_1931-2-14_1964.jpg  1964-07-01   \n",
       "                     23/nm0446223_rm4150446080_1931-2-14_1964.jpg  1964-07-01   \n",
       "1970-06-30 44.002738 95/nm0898595_rm3082275584_1970-6-30_2014.jpg  2014-07-01   \n",
       "                     95/nm0898595_rm3744312576_1970-6-30_2014.jpg  2014-07-01   \n",
       "                     95/nm0898595_rm579390208_1970-6-30_2014.jpg   2014-07-01   \n",
       "\n",
       "                                                                   second_face_score  \n",
       "dob        age       full_path                                                        \n",
       "1931-02-14 33.377139 23/nm0446223_rm4100114432_1931-2-14_1964.jpg           2.630130  \n",
       "                     23/nm0446223_rm4133668864_1931-2-14_1964.jpg                NaN  \n",
       "                     23/nm0446223_rm4150446080_1931-2-14_1964.jpg           1.911732  \n",
       "1970-06-30 44.002738 95/nm0898595_rm3082275584_1970-6-30_2014.jpg                NaN  \n",
       "                     95/nm0898595_rm3744312576_1970-6-30_2014.jpg                NaN  \n",
       "                     95/nm0898595_rm579390208_1970-6-30_2014.jpg            2.623732  "
      ]
     },
     "execution_count": 11,
     "metadata": {},
     "output_type": "execute_result"
    }
   ],
   "source": [
    "chunked.loc['Brian Kelly']"
   ]
  },
  {
   "cell_type": "code",
   "execution_count": 12,
   "metadata": {},
   "outputs": [
    {
     "data": {
      "image/png": "[encoded data removed]",
      "text/plain": [
       "<matplotlib.figure.Figure at 0x7f84045f8710>"
      ]
     },
     "metadata": {},
     "output_type": "display_data"
    }
   ],
   "source": [
    "plt.hist(chunked.reset_index(level=2).groupby(level=[0, 1]).age.mean().values, bins='auto');"
   ]
  },
  {
   "cell_type": "code",
   "execution_count": 13,
   "metadata": {},
   "outputs": [],
   "source": [
    "bag_sizes = df.groupby(level=[0, 1]).size()"
   ]
  },
  {
   "cell_type": "code",
   "execution_count": 14,
   "metadata": {},
   "outputs": [
    {
     "data": {
      "image/png": "[encoded data removed]",
      "text/plain": [
       "<matplotlib.figure.Figure at 0x7f84045f86d8>"
      ]
     },
     "metadata": {},
     "output_type": "display_data"
    }
   ],
   "source": [
    "plt.hist(np.log10(bag_sizes), bins='auto');"
   ]
  },
  {
   "cell_type": "code",
   "execution_count": 15,
   "metadata": {},
   "outputs": [],
   "source": [
    "full_indexer = {n: i for i, n in enumerate(d['full_path'])}"
   ]
  },
  {
   "cell_type": "code",
   "execution_count": 16,
   "metadata": {},
   "outputs": [],
   "source": [
    "probs = np.load('all-feats/probs.npy')"
   ]
  },
  {
   "cell_type": "code",
   "execution_count": 17,
   "metadata": {},
   "outputs": [],
   "source": [
    "all_preds = probs.dot(np.arange(101))"
   ]
  },
  {
   "cell_type": "code",
   "execution_count": 18,
   "metadata": {},
   "outputs": [],
   "source": [
    "df_inds = df.index.get_level_values('full_path').map(full_indexer.get)"
   ]
  },
  {
   "cell_type": "code",
   "execution_count": 19,
   "metadata": {},
   "outputs": [],
   "source": [
    "df['pred'] = all_preds[df_inds]"
   ]
  },
  {
   "cell_type": "code",
   "execution_count": 20,
   "metadata": {},
   "outputs": [
    {
     "data": {
      "text/plain": [
       "<seaborn.axisgrid.JointGrid at 0x7f840477a748>"
      ]
     },
     "execution_count": 20,
     "metadata": {},
     "output_type": "execute_result"
    },
    {
     "data": {
      "image/png": "[encoded data removed]",
      "text/plain": [
       "<matplotlib.figure.Figure at 0x7f8404e93a90>"
      ]
     },
     "metadata": {},
     "output_type": "display_data"
    }
   ],
   "source": [
    "sns.jointplot('age', 'pred', data=df.reset_index(), kind='hexbin')"
   ]
  },
  {
   "cell_type": "code",
   "execution_count": 21,
   "metadata": {},
   "outputs": [],
   "source": [
    "!mkdir -p grouped-4"
   ]
  },
  {
   "cell_type": "code",
   "execution_count": 22,
   "metadata": {},
   "outputs": [],
   "source": [
    "df.to_csv('grouped-4/data.csv.gz', compression='gzip')"
   ]
  },
  {
   "cell_type": "code",
   "execution_count": 23,
   "metadata": {},
   "outputs": [
    {
     "name": "stdout",
     "output_type": "stream",
     "text": [
      "CPU times: user 3.2 s, sys: 11.1 s, total: 14.3 s\n",
      "Wall time: 2min 8s\n"
     ]
    }
   ],
   "source": [
    "%%time\n",
    "np.save('grouped-4/feats.npy', np.load('all-feats/fc7s.npy')[df_inds])"
   ]
  }
 ],
 "metadata": {
  "kernelspec": {
   "display_name": "Python [conda env:py3]",
   "language": "python",
   "name": "conda-env-py3-py"
  },
  "language_info": {
   "codemirror_mode": {
    "name": "ipython",
    "version": 3
   },
   "file_extension": ".py",
   "mimetype": "text/x-python",
   "name": "python",
   "nbconvert_exporter": "python",
   "pygments_lexer": "ipython3",
   "version": "3.6.2"
  }
 },
 "nbformat": 4,
 "nbformat_minor": 2
}
