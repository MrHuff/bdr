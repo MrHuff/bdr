{
 "cells": [
  {
   "cell_type": "code",
   "execution_count": 1,
   "metadata": {
    "collapsed": true
   },
   "outputs": [],
   "source": [
    "import numpy as np\n",
    "%matplotlib inline\n",
    "import matplotlib.pyplot as plt\n",
    "import seaborn as sns\n",
    "import tqdm"
   ]
  },
  {
   "cell_type": "code",
   "execution_count": 44,
   "metadata": {
    "collapsed": true
   },
   "outputs": [],
   "source": [
    "from functools import partial\n",
    "from sklearn.metrics import mean_squared_error, r2_score"
   ]
  },
  {
   "cell_type": "code",
   "execution_count": 2,
   "metadata": {
    "collapsed": true
   },
   "outputs": [],
   "source": [
    "from bdr import Features\n",
    "from bdr.data.imdb_faces import load_faces"
   ]
  },
  {
   "cell_type": "code",
   "execution_count": 3,
   "metadata": {
    "collapsed": true
   },
   "outputs": [],
   "source": [
    "import sys\n",
    "sys.path.append('../experiments/')\n",
    "import train_test"
   ]
  },
  {
   "cell_type": "code",
   "execution_count": 4,
   "metadata": {
    "collapsed": true
   },
   "outputs": [],
   "source": [
    "full = load_faces(load_their_probs=True)"
   ]
  },
  {
   "cell_type": "code",
   "execution_count": 5,
   "metadata": {},
   "outputs": [
    {
     "data": {
      "text/plain": [
       "<Features: 19,645 bags with 1 to 796 4083-dimensional points (397,949 total)>"
      ]
     },
     "execution_count": 5,
     "metadata": {},
     "output_type": "execute_result"
    }
   ],
   "source": [
    "full"
   ]
  },
  {
   "cell_type": "code",
   "execution_count": 35,
   "metadata": {
    "collapsed": true
   },
   "outputs": [],
   "source": [
    "_split = {}\n",
    "def split(seed, feats=full):\n",
    "    if feats is full and seed in _split:\n",
    "        r = _split[seed]\n",
    "        # have we added any metadata since splitting?\n",
    "        if set(r[0].meta) == set(full.meta):\n",
    "            return _split[seed]\n",
    "    \n",
    "    parser = train_test.make_parser()\n",
    "    args = parser.parse_args(\n",
    "        ['imdb_faces', '--type=fourier', 'fake_out', '--split-seed={}'.format(seed)])\n",
    "    spl = train_test._split_feats(args, feats)\n",
    "    \n",
    "    if feats is full:\n",
    "        _split[seed] = spl\n",
    "    return spl"
   ]
  },
  {
   "cell_type": "code",
   "execution_count": 12,
   "metadata": {
    "collapsed": true
   },
   "outputs": [],
   "source": [
    "seeds = np.arange(20, 30)"
   ]
  },
  {
   "cell_type": "markdown",
   "metadata": {},
   "source": [
    "### Their model"
   ]
  },
  {
   "cell_type": "markdown",
   "metadata": {},
   "source": [
    "#### Method: posterior averaging"
   ]
  },
  {
   "cell_type": "code",
   "execution_count": 47,
   "metadata": {
    "collapsed": true
   },
   "outputs": [],
   "source": [
    "_labels = np.arange(101)\n",
    "\n",
    "def cdf_vals(discrete_preds, y):\n",
    "    pred_cdfs = np.cumsum(discrete_preds, axis=1)\n",
    "    \n",
    "    lo = y.astype(int)\n",
    "    portion = y % 1\n",
    "    lo_cdf = pred_cdfs[range(len(y)), lo]\n",
    "    hi_cdf = pred_cdfs[range(len(y)), lo + 1]\n",
    "    return lo_cdf + (hi_cdf - lo_cdf) * portion\n",
    "\n",
    "def _do_posterior(posteriors, y, d, name):\n",
    "    s = partial('{}_{}'.format, name)\n",
    "    d[s('y')] = y\n",
    "    d[s('preds')] = preds = posteriors.dot(_labels)\n",
    "    d[s('pred_vars')] = posteriors.dot(_labels ** 2) - preds ** 2\n",
    "    d[s('pred_nlls')] = pred_nlls = -np.log(posteriors[range(len(y)), y.round().astype(int)]).mean()\n",
    "    d[s('pred_cdfs')] = pred_cdfs = cdf_vals(posteriors, y)\n",
    "    d[s('mse')] = mean_squared_error(y, preds)\n",
    "    d[s('r2')] = r2_score(y, preds)\n",
    "    d[s('nll')] = pred_nlls.mean()\n",
    "    d[s('coverage')] = ((0.025 < pred_cdfs) & (pred_cdfs < 0.975)).mean()"
   ]
  },
  {
   "cell_type": "code",
   "execution_count": 48,
   "metadata": {
    "collapsed": true
   },
   "outputs": [],
   "source": [
    "!mkdir -p theirs_avg\n",
    "for seed in seeds:\n",
    "    train, estop, val, test = split(seed)\n",
    "    d = {}\n",
    "    for name, ds in [('val', val), ('test', test)]:\n",
    "        posteriors = np.vstack([np.mean(x, axis=0) for x in ds.probs])\n",
    "        _do_posterior(posteriors, ds.y, d, name)    \n",
    "    np.savez('theirs_avg/seed_{}.npz'.format(seed), **d)"
   ]
  }
 ],
 "metadata": {
  "kernelspec": {
   "display_name": "Python 2",
   "language": "python",
   "name": "python2"
  },
  "language_info": {
   "codemirror_mode": {
    "name": "ipython",
    "version": 2
   },
   "file_extension": ".py",
   "mimetype": "text/x-python",
   "name": "python",
   "nbconvert_exporter": "python",
   "pygments_lexer": "ipython2",
   "version": "2.7.13"
  }
 },
 "nbformat": 4,
 "nbformat_minor": 2
}
